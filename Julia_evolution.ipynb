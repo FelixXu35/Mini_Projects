{
 "cells": [
  {
   "cell_type": "code",
   "execution_count": null,
   "metadata": {},
   "outputs": [],
   "source": [
    "using QuantumCumulants\n",
    "using Printf, Plots\n",
    "using OrdinaryDiffEq, ModelingToolkit, DifferentialEquations\n",
    "using Statistics\n",
    "using DiffEqBase"
   ]
  },
  {
   "cell_type": "code",
   "execution_count": null,
   "metadata": {},
   "outputs": [],
   "source": [
    "# Hilbert space\n",
    "@cnumbers ħ \n",
    "h1 = NLevelSpace(:atom, 2)\n",
    "h2 = NLevelSpace(:atom, 2)\n",
    "h3 = NLevelSpace(:atom, 2)\n",
    "h4 = NLevelSpace(:atom, 2)\n",
    "h5 = NLevelSpace(:atom, 2)\n",
    "h = h1 ⊗ h2 ⊗ h3 ⊗ h4 ⊗ h5\n",
    "\n",
    "# operators\n",
    "σ(α, β, i) = IndexedOperator(Transition(h, :σ, α, β), i)\n",
    "nothing"
   ]
  },
  {
   "cell_type": "code",
   "execution_count": null,
   "metadata": {},
   "outputs": [],
   "source": [
    "# indices\n",
    "k = Index(h, :k, N, h)\n",
    "nothing"
   ]
  },
  {
   "cell_type": "code",
   "execution_count": null,
   "metadata": {},
   "outputs": [],
   "source": [
    "# Hamiltonian\n",
    "H = sqrt(1*4) * ((σ(1, 2, 1) + σ(2, 1, 1))*(σ(1, 2, 2) + σ(2, 1, 2)) + (-1im*σ(1, 2, 1) + 1im*σ(2, 1, 1))*(-1im*σ(1, 2, 2) + 1im*σ(2, 1, 2))) +\n",
    "    sqrt(2*3) * ((σ(1, 2, 2) + σ(2, 1, 2))*(σ(1, 2, 3) + σ(2, 1, 3)) + (-1im*σ(1, 2, 2) + 1im*σ(2, 1, 2))*(-1im*σ(1, 2, 3) + 1im*σ(2, 1, 3))) +\n",
    "    sqrt(3*2) * ((σ(1, 2, 3) + σ(2, 1, 3))*(σ(1, 2, 4) + σ(2, 1, 4)) + (-1im*σ(1, 2, 3) + 1im*σ(2, 1, 3))*(-1im*σ(1, 2, 4) + 1im*σ(2, 1, 4))) +\n",
    "    sqrt(4*1) * ((σ(1, 2, 4) + σ(2, 1, 4))*(σ(1, 2, 5) + σ(2, 1, 5)) + (-1im*σ(1, 2, 4) + 1im*σ(2, 1, 4))*(-1im*σ(1, 2, 5) + 1im*σ(2, 1, 5))) "
   ]
  },
  {
   "cell_type": "code",
   "execution_count": null,
   "metadata": {},
   "outputs": [],
   "source": [
    "# Jumps\n",
    "J = []\n",
    "rates = []\n",
    "nothing"
   ]
  },
  {
   "cell_type": "code",
   "execution_count": null,
   "metadata": {},
   "outputs": [],
   "source": [
    "#ops = [a'*a, ge*Σ(a*σ(1,2,j), j), Σ((σ(2,2,j) - σ(1,1,j)), j), Σ(σ(1,2,j), j)*Σ(σ(2,1,l), l)]\n",
    "ops = [σ(2,2,1), σ(2,2,2), σ(2,2,3), σ(2,2,4), σ(2,2,5)]\n",
    "eqs = meanfield(ops,H,J;rates=rates,order=2)\n",
    "eqs_e = cumulant_expansion(eqs,2)"
   ]
  },
  {
   "cell_type": "code",
   "execution_count": null,
   "metadata": {},
   "outputs": [],
   "source": [
    "eqs_ec = complete(eqs_e)"
   ]
  },
  {
   "cell_type": "code",
   "execution_count": null,
   "metadata": {},
   "outputs": [],
   "source": [
    "# initial values\n",
    "u0 = zeros(ComplexF64, length(eqs_esc))\n",
    "u0[1] = 4.3e3\n",
    "u0[2] = 0.9 # 0.8 = 0.9(up) - 0.1(down)\n",
    "nothing\n",
    "     "
   ]
  }
 ],
 "metadata": {
  "kernelspec": {
   "display_name": "Julia 1.8.3",
   "language": "julia",
   "name": "julia-1.8"
  },
  "language_info": {
   "file_extension": ".jl",
   "mimetype": "application/julia",
   "name": "julia",
   "version": "1.8.3"
  },
  "orig_nbformat": 4
 },
 "nbformat": 4,
 "nbformat_minor": 2
}
